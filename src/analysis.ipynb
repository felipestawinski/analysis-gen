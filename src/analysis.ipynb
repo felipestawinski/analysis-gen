{
 "cells": [
  {
   "cell_type": "code",
   "execution_count": 1,
   "id": "0f4f5615",
   "metadata": {},
   "outputs": [
    {
     "name": "stderr",
     "output_type": "stream",
     "text": [
      "C:\\Users\\Felipe\\AppData\\Local\\Temp\\ipykernel_15468\\60302020.py:3: DtypeWarning: Columns (702,745) have mixed types. Specify dtype option on import or set low_memory=False.\n",
      "  df = pd.read_csv('../data/cuiaba.csv')\n"
     ]
    }
   ],
   "source": [
    "import pandas as pd\n",
    "import matplotlib.pyplot as plt\n",
    "df = pd.read_csv('../data/cuiaba.csv')\n",
    "# df2 = pd.read_excel('../data/cuiaba.xlsx')\n"
   ]
  },
  {
   "cell_type": "code",
   "execution_count": null,
   "id": "eeaea37b",
   "metadata": {},
   "outputs": [],
   "source": []
  },
  {
   "cell_type": "code",
   "execution_count": null,
   "id": "d3dad1d8",
   "metadata": {},
   "outputs": [],
   "source": []
  },
  {
   "cell_type": "code",
   "execution_count": 2,
   "id": "58147432",
   "metadata": {},
   "outputs": [
    {
     "name": "stdout",
     "output_type": "stream",
     "text": [
      "   Player Name                  Period Name   Period Number       Date  \\\n",
      "0            1  JOGO X PRIMAVERA_2024_01_20               0  1/20/2024   \n",
      "1            1                     1º TEMPO               3  1/20/2024   \n",
      "2            1                     2º TEMPO               4  1/20/2024   \n",
      "3            1           JOGO X OPERÁRIO_VG               0  1/23/2024   \n",
      "4            1                     2º TEMPO               4  1/23/2024   \n",
      "\n",
      "   Position  Start Time  End Time   Unix Start Time   Unix End Time  \\\n",
      "0         A    14:44:48  17:49:47      1.705776e+09    1.705787e+09   \n",
      "1         A    15:30:36  16:19:33      1.705779e+09    1.705782e+09   \n",
      "2         A    16:37:46  17:31:33      1.705783e+09    1.705786e+09   \n",
      "3         A    18:18:17  21:17:50      1.706048e+09    1.706059e+09   \n",
      "4         A    20:08:21  20:59:36      1.706055e+09    1.706058e+09   \n",
      "\n",
      "    Duration  ... ESPAÇO DE JOGO (LARGURA X COMPRIMENTO)  \\\n",
      "0   02:36:26  ...                                    NaN   \n",
      "1   00:48:57  ...                                    NaN   \n",
      "2   00:53:48  ...                                    NaN   \n",
      "3   02:57:12  ...                                    NaN   \n",
      "4   00:51:14  ...                                    NaN   \n",
      "\n",
      "  SEMANA CONGESTIONADA (<4D) MANDO DE CAMPO RESULTADO 1º TEMPO  \\\n",
      "0                        NÃO            SIM            VITÓRIA   \n",
      "1                        NÃO            SIM            VITÓRIA   \n",
      "2                        NÃO            SIM            VITÓRIA   \n",
      "3                        SIM            NÃO            VITÓRIA   \n",
      "4                        SIM            NÃO            VITÓRIA   \n",
      "\n",
      "  RESULTADO 2º TEMPO RESULTADO FINAL SAIU NA FRENTE TROCAS <70MIN ATIVIDADE  \\\n",
      "0            DERROTA          EMPATE            SIM           4.0       NaN   \n",
      "1            DERROTA          EMPATE            SIM           4.0       NaN   \n",
      "2            DERROTA          EMPATE            SIM           4.0       NaN   \n",
      "3            DERROTA          EMPATE            SIM           5.0       NaN   \n",
      "4            DERROTA          EMPATE            SIM           5.0  2º_TEMPO   \n",
      "\n",
      "  MICROCICLO  \n",
      "0          2  \n",
      "1          2  \n",
      "2          2  \n",
      "3          3  \n",
      "4          3  \n",
      "\n",
      "[5 rows x 759 columns]\n"
     ]
    }
   ],
   "source": [
    "#df2.tail(5)\n",
    "print(df.head())"
   ]
  },
  {
   "cell_type": "code",
   "execution_count": 4,
   "id": "ac840507",
   "metadata": {},
   "outputs": [
    {
     "name": "stdout",
     "output_type": "stream",
     "text": [
      "9\n"
     ]
    }
   ],
   "source": [
    "# find out how many unique \"Position\" values are there\n",
    "if \" Position\" in df.columns:\n",
    "\n",
    "    print(len(df[' Position'].unique()))\n",
    "else:\n",
    "    print(\"Column 'Position' does not exist in the DataFrame.\")\n"
   ]
  }
 ],
 "metadata": {
  "kernelspec": {
   "display_name": "base",
   "language": "python",
   "name": "python3"
  },
  "language_info": {
   "codemirror_mode": {
    "name": "ipython",
    "version": 3
   },
   "file_extension": ".py",
   "mimetype": "text/x-python",
   "name": "python",
   "nbconvert_exporter": "python",
   "pygments_lexer": "ipython3",
   "version": "3.12.7"
  }
 },
 "nbformat": 4,
 "nbformat_minor": 5
}
